{
 "cells": [
  {
   "cell_type": "markdown",
   "metadata": {
    "id": "7ywSRtNI4s5h"
   },
   "source": [
    "# 0.) Import and Clean data"
   ]
  },
  {
   "cell_type": "code",
   "execution_count": 1,
   "metadata": {
    "id": "nsG1QV154GYZ"
   },
   "outputs": [],
   "source": [
    "import pandas as pd\n",
    "import matplotlib.pyplot as plt\n",
    "import numpy as np\n",
    "from sklearn.preprocessing import StandardScaler\n",
    "from sklearn.cluster import KMeans"
   ]
  },
  {
   "cell_type": "code",
   "execution_count": 2,
   "metadata": {
    "id": "Iku0T8Ou4Lcu"
   },
   "outputs": [],
   "source": [
    "#drive.mount('/content/gdrive/', force_remount = True)\n",
    "df = pd.read_csv(\"/Users/adrianonggowarsito/Downloads/Country-data.csv\", sep = \",\")"
   ]
  },
  {
   "cell_type": "code",
   "execution_count": 3,
   "metadata": {
    "id": "ntDMWRN-8yAi"
   },
   "outputs": [
    {
     "data": {
      "text/html": [
       "<div>\n",
       "<style scoped>\n",
       "    .dataframe tbody tr th:only-of-type {\n",
       "        vertical-align: middle;\n",
       "    }\n",
       "\n",
       "    .dataframe tbody tr th {\n",
       "        vertical-align: top;\n",
       "    }\n",
       "\n",
       "    .dataframe thead th {\n",
       "        text-align: right;\n",
       "    }\n",
       "</style>\n",
       "<table border=\"1\" class=\"dataframe\">\n",
       "  <thead>\n",
       "    <tr style=\"text-align: right;\">\n",
       "      <th></th>\n",
       "      <th>country</th>\n",
       "      <th>child_mort</th>\n",
       "      <th>exports</th>\n",
       "      <th>health</th>\n",
       "      <th>imports</th>\n",
       "      <th>income</th>\n",
       "      <th>inflation</th>\n",
       "      <th>life_expec</th>\n",
       "      <th>total_fer</th>\n",
       "      <th>gdpp</th>\n",
       "    </tr>\n",
       "  </thead>\n",
       "  <tbody>\n",
       "    <tr>\n",
       "      <th>0</th>\n",
       "      <td>Afghanistan</td>\n",
       "      <td>90.2</td>\n",
       "      <td>10.0</td>\n",
       "      <td>7.58</td>\n",
       "      <td>44.9</td>\n",
       "      <td>1610</td>\n",
       "      <td>9.44</td>\n",
       "      <td>56.2</td>\n",
       "      <td>5.82</td>\n",
       "      <td>553</td>\n",
       "    </tr>\n",
       "    <tr>\n",
       "      <th>1</th>\n",
       "      <td>Albania</td>\n",
       "      <td>16.6</td>\n",
       "      <td>28.0</td>\n",
       "      <td>6.55</td>\n",
       "      <td>48.6</td>\n",
       "      <td>9930</td>\n",
       "      <td>4.49</td>\n",
       "      <td>76.3</td>\n",
       "      <td>1.65</td>\n",
       "      <td>4090</td>\n",
       "    </tr>\n",
       "    <tr>\n",
       "      <th>2</th>\n",
       "      <td>Algeria</td>\n",
       "      <td>27.3</td>\n",
       "      <td>38.4</td>\n",
       "      <td>4.17</td>\n",
       "      <td>31.4</td>\n",
       "      <td>12900</td>\n",
       "      <td>16.10</td>\n",
       "      <td>76.5</td>\n",
       "      <td>2.89</td>\n",
       "      <td>4460</td>\n",
       "    </tr>\n",
       "    <tr>\n",
       "      <th>3</th>\n",
       "      <td>Angola</td>\n",
       "      <td>119.0</td>\n",
       "      <td>62.3</td>\n",
       "      <td>2.85</td>\n",
       "      <td>42.9</td>\n",
       "      <td>5900</td>\n",
       "      <td>22.40</td>\n",
       "      <td>60.1</td>\n",
       "      <td>6.16</td>\n",
       "      <td>3530</td>\n",
       "    </tr>\n",
       "    <tr>\n",
       "      <th>4</th>\n",
       "      <td>Antigua and Barbuda</td>\n",
       "      <td>10.3</td>\n",
       "      <td>45.5</td>\n",
       "      <td>6.03</td>\n",
       "      <td>58.9</td>\n",
       "      <td>19100</td>\n",
       "      <td>1.44</td>\n",
       "      <td>76.8</td>\n",
       "      <td>2.13</td>\n",
       "      <td>12200</td>\n",
       "    </tr>\n",
       "  </tbody>\n",
       "</table>\n",
       "</div>"
      ],
      "text/plain": [
       "               country  child_mort  exports  health  imports  income  \\\n",
       "0          Afghanistan        90.2     10.0    7.58     44.9    1610   \n",
       "1              Albania        16.6     28.0    6.55     48.6    9930   \n",
       "2              Algeria        27.3     38.4    4.17     31.4   12900   \n",
       "3               Angola       119.0     62.3    2.85     42.9    5900   \n",
       "4  Antigua and Barbuda        10.3     45.5    6.03     58.9   19100   \n",
       "\n",
       "   inflation  life_expec  total_fer   gdpp  \n",
       "0       9.44        56.2       5.82    553  \n",
       "1       4.49        76.3       1.65   4090  \n",
       "2      16.10        76.5       2.89   4460  \n",
       "3      22.40        60.1       6.16   3530  \n",
       "4       1.44        76.8       2.13  12200  "
      ]
     },
     "execution_count": 3,
     "metadata": {},
     "output_type": "execute_result"
    }
   ],
   "source": [
    "df.head()"
   ]
  },
  {
   "cell_type": "markdown",
   "metadata": {
    "id": "YLn6XlFqMaCY"
   },
   "source": [
    "# 1.) Fit a kmeans Model with any Number of Clusters"
   ]
  },
  {
   "cell_type": "code",
   "execution_count": 4,
   "metadata": {
    "id": "bzwvr8PJMtrr"
   },
   "outputs": [],
   "source": [
    "# Dropping the 'country' column and standardizing the remaining columns\n",
    "\n",
    "names = df[[\"country\"]].copy()\n",
    "X = df.drop([\"country\"], axis=1)"
   ]
  },
  {
   "cell_type": "code",
   "execution_count": 5,
   "metadata": {},
   "outputs": [],
   "source": [
    "scaler = StandardScaler().fit(X)\n",
    "X_scaled = scaler.transform(X)"
   ]
  },
  {
   "cell_type": "markdown",
   "metadata": {
    "id": "LkpVmNYRMtyq"
   },
   "source": [
    "# 2.) Pick two features to visualize across"
   ]
  },
  {
   "cell_type": "code",
   "execution_count": 6,
   "metadata": {},
   "outputs": [],
   "source": [
    "kmeans = KMeans(n_clusters = 5).fit(X_scaled)"
   ]
  },
  {
   "cell_type": "code",
   "execution_count": 7,
   "metadata": {
    "colab": {
     "base_uri": "https://localhost:8080/"
    },
    "id": "oTmfYVYrN53a",
    "outputId": "a5a09b29-e94a-4ea6-a0df-c7873220ab90"
   },
   "outputs": [
    {
     "data": {
      "text/plain": [
       "Index(['child_mort', 'exports', 'health', 'imports', 'income', 'inflation',\n",
       "       'life_expec', 'total_fer', 'gdpp'],\n",
       "      dtype='object')"
      ]
     },
     "execution_count": 7,
     "metadata": {},
     "output_type": "execute_result"
    }
   ],
   "source": [
    "X.columns"
   ]
  },
  {
   "cell_type": "code",
   "execution_count": 8,
   "metadata": {
    "id": "GksDZxUsDbzM",
    "scrolled": false
   },
   "outputs": [
    {
     "data": {
      "image/png": "[encoded data removed]",
      "text/plain": [
       "<Figure size 640x480 with 1 Axes>"
      ]
     },
     "metadata": {},
     "output_type": "display_data"
    }
   ],
   "source": [
    "import matplotlib.pyplot as plt\n",
    "\n",
    "x1_index = 0\n",
    "x2_index = 4\n",
    "\n",
    "\n",
    "scatter = plt.scatter(X_scaled[:, x1_index], X_scaled[:, x2_index], c=kmeans.labels_, label='Clusters')\n",
    "\n",
    "centers = plt.scatter(kmeans.cluster_centers_[:, x1_index], kmeans.cluster_centers_[:, x2_index], marker='o', color='red', s=100, label='Centers')\n",
    "\n",
    "plt.xlabel(X.columns[x1_index])\n",
    "plt.ylabel(X.columns[x2_index])\n",
    "plt.title('Scatter Plot of Customers')\n",
    "\n",
    "# Generate legend\n",
    "plt.legend()\n",
    "plt.grid()\n",
    "plt.show()"
   ]
  },
  {
   "cell_type": "markdown",
   "metadata": {
    "id": "827DR0zsOkNA"
   },
   "source": [
    "# 3.) Check a range of k-clusters and visualize to find the elbow. Test 30 different random starting places for the centroid means"
   ]
  },
  {
   "cell_type": "code",
   "execution_count": 9,
   "metadata": {
    "id": "L66GonbU5NAg"
   },
   "outputs": [],
   "source": [
    "WCSSs = []\n",
    "ks = range(1, 15)\n",
    "for k in ks:\n",
    "    kmeans = KMeans(n_clusters = k, n_init = 30, init = \"random\")\n",
    "    kmeans.fit(X_scaled)\n",
    "    WCSSs.append(kmeans.inertia_)"
   ]
  },
  {
   "cell_type": "code",
   "execution_count": 10,
   "metadata": {},
   "outputs": [
    {
     "data": {
      "text/plain": [
       "[1503.0,\n",
       " 1050.2145582853304,\n",
       " 831.4244352086876,\n",
       " 700.3229986404375,\n",
       " 620.1633712888422,\n",
       " 565.8565705704663,\n",
       " 517.9428657056242,\n",
       " 469.6804644586921,\n",
       " 448.9696204766005,\n",
       " 402.006126668496,\n",
       " 386.44425659201056,\n",
       " 357.29383573815846,\n",
       " 333.5411162208497,\n",
       " 323.7452453349364]"
      ]
     },
     "execution_count": 10,
     "metadata": {},
     "output_type": "execute_result"
    }
   ],
   "source": [
    "WCSSs"
   ]
  },
  {
   "cell_type": "code",
   "execution_count": 11,
   "metadata": {},
   "outputs": [],
   "source": [
    "# BONUS OPTIONAL\n",
    "WCSSs = [KMeans(n_clusters = k, n_init = 30, init = \"random\").fit(X_scaled).inertia_ for k in range(1, 15)]"
   ]
  },
  {
   "cell_type": "code",
   "execution_count": 12,
   "metadata": {},
   "outputs": [
    {
     "data": {
      "image/png": "[encoded data removed]",
      "text/plain": [
       "<Figure size 640x480 with 1 Axes>"
      ]
     },
     "metadata": {},
     "output_type": "display_data"
    }
   ],
   "source": [
    "plt.plot(ks, WCSSs)\n",
    "plt.grid()\n",
    "plt.show()"
   ]
  },
  {
   "cell_type": "markdown",
   "metadata": {
    "id": "aNEDRA7XPkMN"
   },
   "source": [
    "# 4.) Use the above work and economic critical thinking to choose a number of clusters. Explain why you chose the number of clusters and fit a model accordingly."
   ]
  },
  {
   "cell_type": "markdown",
   "metadata": {
    "id": "o0TG8sABQake"
   },
   "source": []
  },
  {
   "cell_type": "markdown",
   "metadata": {
    "id": "FNgPPYCGsE4X"
   },
   "source": [
    "# 6.) Do the same for a silhoutte plot"
   ]
  },
  {
   "cell_type": "code",
   "execution_count": 13,
   "metadata": {
    "id": "I8YXoj7SsM8S"
   },
   "outputs": [],
   "source": [
    "from sklearn.metrics import silhouette_score"
   ]
  },
  {
   "cell_type": "code",
   "execution_count": 14,
   "metadata": {
    "id": "74EiOYI8sDv7"
   },
   "outputs": [],
   "source": [
    "SCs = []\n",
    "ks = range(2, 15)\n",
    "for k in ks:\n",
    "    kmeans = KMeans(n_clusters = k, n_init = 30, init = \"random\")\n",
    "    kmeans.fit(X_scaled)\n",
    "    labels = kmeans.labels_\n",
    "    SCs.append(silhouette_score(X_scaled, labels))"
   ]
  },
  {
   "cell_type": "code",
   "execution_count": 15,
   "metadata": {},
   "outputs": [
    {
     "data": {
      "image/png": "[encoded data removed]",
      "text/plain": [
       "<Figure size 640x480 with 1 Axes>"
      ]
     },
     "metadata": {},
     "output_type": "display_data"
    }
   ],
   "source": [
    "plt.plot(ks, SCs)\n",
    "plt.xlabel(\"N of Clusters\")\n",
    "plt.ylabel(\"Silhouette Scores\")\n",
    "plt.grid()\n",
    "plt.show()"
   ]
  },
  {
   "cell_type": "markdown",
   "metadata": {
    "id": "Z6xfLRZIRfdl"
   },
   "source": [
    "# 7.) Create a list of the countries that are in each cluster. Write interesting things you notice."
   ]
  },
  {
   "cell_type": "code",
   "execution_count": 34,
   "metadata": {},
   "outputs": [],
   "source": [
    "kmeans = KMeans(n_clusters = 3, n_init = 30, init = \"random\").fit(X_scaled)"
   ]
  },
  {
   "cell_type": "code",
   "execution_count": 35,
   "metadata": {},
   "outputs": [],
   "source": [
    "preds = pd.DataFrame(kmeans.predict(X_scaled))"
   ]
  },
  {
   "cell_type": "code",
   "execution_count": 36,
   "metadata": {},
   "outputs": [],
   "source": [
    "output = pd.concat([preds,df], axis = 1)"
   ]
  },
  {
   "cell_type": "code",
   "execution_count": 37,
   "metadata": {},
   "outputs": [
    {
     "name": "stdout",
     "output_type": "stream",
     "text": [
      "Cluster 0: ['Afghanistan', 'Angola', 'Benin', 'Botswana', 'Burkina Faso', 'Burundi', 'Cameroon', 'Central African Republic', 'Chad', 'Comoros', 'Congo, Dem. Rep.', 'Congo, Rep.', \"Cote d'Ivoire\", 'Equatorial Guinea', 'Eritrea', 'Gabon', 'Gambia', 'Ghana', 'Guinea', 'Guinea-Bissau', 'Haiti', 'Iraq', 'Kenya', 'Kiribati', 'Lao', 'Lesotho', 'Liberia', 'Madagascar', 'Malawi', 'Mali', 'Mauritania', 'Mozambique', 'Namibia', 'Niger', 'Nigeria', 'Pakistan', 'Rwanda', 'Senegal', 'Sierra Leone', 'South Africa', 'Sudan', 'Tanzania', 'Timor-Leste', 'Togo', 'Uganda', 'Yemen', 'Zambia']\n",
      "Cluster 1: ['Australia', 'Austria', 'Bahrain', 'Belgium', 'Brunei', 'Canada', 'Cyprus', 'Czech Republic', 'Denmark', 'Finland', 'France', 'Germany', 'Greece', 'Iceland', 'Ireland', 'Israel', 'Italy', 'Japan', 'Kuwait', 'Luxembourg', 'Malta', 'Netherlands', 'New Zealand', 'Norway', 'Portugal', 'Qatar', 'Singapore', 'Slovak Republic', 'Slovenia', 'South Korea', 'Spain', 'Sweden', 'Switzerland', 'United Arab Emirates', 'United Kingdom', 'United States']\n",
      "Cluster 2: ['Albania', 'Algeria', 'Antigua and Barbuda', 'Argentina', 'Armenia', 'Azerbaijan', 'Bahamas', 'Bangladesh', 'Barbados', 'Belarus', 'Belize', 'Bhutan', 'Bolivia', 'Bosnia and Herzegovina', 'Brazil', 'Bulgaria', 'Cambodia', 'Cape Verde', 'Chile', 'China', 'Colombia', 'Costa Rica', 'Croatia', 'Dominican Republic', 'Ecuador', 'Egypt', 'El Salvador', 'Estonia', 'Fiji', 'Georgia', 'Grenada', 'Guatemala', 'Guyana', 'Hungary', 'India', 'Indonesia', 'Iran', 'Jamaica', 'Jordan', 'Kazakhstan', 'Kyrgyz Republic', 'Latvia', 'Lebanon', 'Libya', 'Lithuania', 'Macedonia, FYR', 'Malaysia', 'Maldives', 'Mauritius', 'Micronesia, Fed. Sts.', 'Moldova', 'Mongolia', 'Montenegro', 'Morocco', 'Myanmar', 'Nepal', 'Oman', 'Panama', 'Paraguay', 'Peru', 'Philippines', 'Poland', 'Romania', 'Russia', 'Samoa', 'Saudi Arabia', 'Serbia', 'Seychelles', 'Solomon Islands', 'Sri Lanka', 'St. Vincent and the Grenadines', 'Suriname', 'Tajikistan', 'Thailand', 'Tonga', 'Tunisia', 'Turkey', 'Turkmenistan', 'Ukraine', 'Uruguay', 'Uzbekistan', 'Vanuatu', 'Venezuela', 'Vietnam']\n"
     ]
    }
   ],
   "source": [
    "# Create a new DataFrame with cluster assignments\n",
    "df['cluster'] = kmeans.labels_\n",
    "\n",
    "# Initialize a dictionary to hold the list of countries by cluster\n",
    "clusters = {i: [] for i in range(kmeans.n_clusters)}\n",
    "\n",
    "# Fill the dictionary with country names\n",
    "for index, row in df.iterrows():\n",
    "    clusters[row['cluster']].append(row['country'])\n",
    "\n",
    "# Now you can print the countries in each cluster\n",
    "for cluster, countries in clusters.items():\n",
    "    print(f\"Cluster {cluster}: {countries}\")"
   ]
  },
  {
   "cell_type": "code",
   "execution_count": 40,
   "metadata": {},
   "outputs": [
    {
     "name": "stdout",
     "output_type": "stream",
     "text": [
      "Countries in Cluster 0:\n",
      "Afghanistan\n",
      "Angola\n",
      "Benin\n",
      "Botswana\n",
      "Burkina Faso\n",
      "Burundi\n",
      "Cameroon\n",
      "Central African Republic\n",
      "Chad\n",
      "Comoros\n",
      "Congo, Dem. Rep.\n",
      "Congo, Rep.\n",
      "Cote d'Ivoire\n",
      "Equatorial Guinea\n",
      "Eritrea\n",
      "Gabon\n",
      "Gambia\n",
      "Ghana\n",
      "Guinea\n",
      "Guinea-Bissau\n",
      "Haiti\n",
      "Iraq\n",
      "Kenya\n",
      "Kiribati\n",
      "Lao\n",
      "Lesotho\n",
      "Liberia\n",
      "Madagascar\n",
      "Malawi\n",
      "Mali\n",
      "Mauritania\n",
      "Mozambique\n",
      "Namibia\n",
      "Niger\n",
      "Nigeria\n",
      "Pakistan\n",
      "Rwanda\n",
      "Senegal\n",
      "Sierra Leone\n",
      "South Africa\n",
      "Sudan\n",
      "Tanzania\n",
      "Timor-Leste\n",
      "Togo\n",
      "Uganda\n",
      "Yemen\n",
      "Zambia\n"
     ]
    }
   ],
   "source": [
    "print(\"Countries in Cluster 0:\")\n",
    "for country in clusters[0]:\n",
    "    print(country)"
   ]
  },
  {
   "cell_type": "code",
   "execution_count": 38,
   "metadata": {},
   "outputs": [
    {
     "name": "stdout",
     "output_type": "stream",
     "text": [
      "Countries in Cluster 1:\n",
      "Australia\n",
      "Austria\n",
      "Bahrain\n",
      "Belgium\n",
      "Brunei\n",
      "Canada\n",
      "Cyprus\n",
      "Czech Republic\n",
      "Denmark\n",
      "Finland\n",
      "France\n",
      "Germany\n",
      "Greece\n",
      "Iceland\n",
      "Ireland\n",
      "Israel\n",
      "Italy\n",
      "Japan\n",
      "Kuwait\n",
      "Luxembourg\n",
      "Malta\n",
      "Netherlands\n",
      "New Zealand\n",
      "Norway\n",
      "Portugal\n",
      "Qatar\n",
      "Singapore\n",
      "Slovak Republic\n",
      "Slovenia\n",
      "South Korea\n",
      "Spain\n",
      "Sweden\n",
      "Switzerland\n",
      "United Arab Emirates\n",
      "United Kingdom\n",
      "United States\n"
     ]
    }
   ],
   "source": [
    "print(\"Countries in Cluster 1:\")\n",
    "for country in clusters[1]:\n",
    "    print(country)"
   ]
  },
  {
   "cell_type": "code",
   "execution_count": 39,
   "metadata": {},
   "outputs": [
    {
     "name": "stdout",
     "output_type": "stream",
     "text": [
      "Countries in Cluster 2:\n",
      "Albania\n",
      "Algeria\n",
      "Antigua and Barbuda\n",
      "Argentina\n",
      "Armenia\n",
      "Azerbaijan\n",
      "Bahamas\n",
      "Bangladesh\n",
      "Barbados\n",
      "Belarus\n",
      "Belize\n",
      "Bhutan\n",
      "Bolivia\n",
      "Bosnia and Herzegovina\n",
      "Brazil\n",
      "Bulgaria\n",
      "Cambodia\n",
      "Cape Verde\n",
      "Chile\n",
      "China\n",
      "Colombia\n",
      "Costa Rica\n",
      "Croatia\n",
      "Dominican Republic\n",
      "Ecuador\n",
      "Egypt\n",
      "El Salvador\n",
      "Estonia\n",
      "Fiji\n",
      "Georgia\n",
      "Grenada\n",
      "Guatemala\n",
      "Guyana\n",
      "Hungary\n",
      "India\n",
      "Indonesia\n",
      "Iran\n",
      "Jamaica\n",
      "Jordan\n",
      "Kazakhstan\n",
      "Kyrgyz Republic\n",
      "Latvia\n",
      "Lebanon\n",
      "Libya\n",
      "Lithuania\n",
      "Macedonia, FYR\n",
      "Malaysia\n",
      "Maldives\n",
      "Mauritius\n",
      "Micronesia, Fed. Sts.\n",
      "Moldova\n",
      "Mongolia\n",
      "Montenegro\n",
      "Morocco\n",
      "Myanmar\n",
      "Nepal\n",
      "Oman\n",
      "Panama\n",
      "Paraguay\n",
      "Peru\n",
      "Philippines\n",
      "Poland\n",
      "Romania\n",
      "Russia\n",
      "Samoa\n",
      "Saudi Arabia\n",
      "Serbia\n",
      "Seychelles\n",
      "Solomon Islands\n",
      "Sri Lanka\n",
      "St. Vincent and the Grenadines\n",
      "Suriname\n",
      "Tajikistan\n",
      "Thailand\n",
      "Tonga\n",
      "Tunisia\n",
      "Turkey\n",
      "Turkmenistan\n",
      "Ukraine\n",
      "Uruguay\n",
      "Uzbekistan\n",
      "Vanuatu\n",
      "Venezuela\n",
      "Vietnam\n"
     ]
    }
   ],
   "source": [
    "print(\"Countries in Cluster 2:\")\n",
    "for country in clusters[2]:\n",
    "    print(country)"
   ]
  },
  {
   "cell_type": "markdown",
   "metadata": {
    "id": "LTutrUGlqqha"
   },
   "source": [
    "#### Write an observation"
   ]
  },
  {
   "cell_type": "markdown",
   "metadata": {
    "id": "fGuVFuzxStqP"
   },
   "source": [
    "Cluster 0: A majority of them have not really good economic conditions\n",
    "\n",
    "Cluster 1: A majority of them are High Income, Developed economies, OECD level countries\n",
    "\n",
    "Cluster 2: A majority of them are up and coming countries with potential, middle to upper middle income economies"
   ]
  },
  {
   "cell_type": "markdown",
   "metadata": {
    "id": "nEmf0AxkTJc1"
   },
   "source": [
    "# 8.) Create a table of Descriptive Statistics. Rows being the Cluster number and columns being all the features. Values being the mean of the centroid. Use the nonscaled X values for interprotation"
   ]
  },
  {
   "cell_type": "code",
   "execution_count": 42,
   "metadata": {
    "id": "ELmUB7bMTIJL"
   },
   "outputs": [
    {
     "data": {
      "text/html": [
       "<div>\n",
       "<style scoped>\n",
       "    .dataframe tbody tr th:only-of-type {\n",
       "        vertical-align: middle;\n",
       "    }\n",
       "\n",
       "    .dataframe tbody tr th {\n",
       "        vertical-align: top;\n",
       "    }\n",
       "\n",
       "    .dataframe thead th {\n",
       "        text-align: right;\n",
       "    }\n",
       "</style>\n",
       "<table border=\"1\" class=\"dataframe\">\n",
       "  <thead>\n",
       "    <tr style=\"text-align: right;\">\n",
       "      <th></th>\n",
       "      <th></th>\n",
       "      <th>child_mort</th>\n",
       "      <th>exports</th>\n",
       "      <th>health</th>\n",
       "      <th>imports</th>\n",
       "      <th>income</th>\n",
       "      <th>inflation</th>\n",
       "      <th>life_expec</th>\n",
       "      <th>total_fer</th>\n",
       "      <th>gdpp</th>\n",
       "    </tr>\n",
       "  </thead>\n",
       "  <tbody>\n",
       "    <tr>\n",
       "      <th rowspan=\"3\" valign=\"top\">Centroids</th>\n",
       "      <th>0</th>\n",
       "      <td>92.961702</td>\n",
       "      <td>29.151277</td>\n",
       "      <td>6.388511</td>\n",
       "      <td>42.323404</td>\n",
       "      <td>3942.404255</td>\n",
       "      <td>12.019681</td>\n",
       "      <td>59.187234</td>\n",
       "      <td>5.008085</td>\n",
       "      <td>1922.382979</td>\n",
       "    </tr>\n",
       "    <tr>\n",
       "      <th>1</th>\n",
       "      <td>5.000000</td>\n",
       "      <td>58.738889</td>\n",
       "      <td>8.807778</td>\n",
       "      <td>51.491667</td>\n",
       "      <td>45672.222222</td>\n",
       "      <td>2.671250</td>\n",
       "      <td>80.127778</td>\n",
       "      <td>1.752778</td>\n",
       "      <td>42494.444444</td>\n",
       "    </tr>\n",
       "    <tr>\n",
       "      <th>2</th>\n",
       "      <td>21.927381</td>\n",
       "      <td>40.243917</td>\n",
       "      <td>6.200952</td>\n",
       "      <td>47.473404</td>\n",
       "      <td>12305.595238</td>\n",
       "      <td>7.600905</td>\n",
       "      <td>72.814286</td>\n",
       "      <td>2.307500</td>\n",
       "      <td>6486.452381</td>\n",
       "    </tr>\n",
       "    <tr>\n",
       "      <th rowspan=\"3\" valign=\"top\">Means</th>\n",
       "      <th>0</th>\n",
       "      <td>92.961702</td>\n",
       "      <td>29.151277</td>\n",
       "      <td>6.388511</td>\n",
       "      <td>42.323404</td>\n",
       "      <td>3942.404255</td>\n",
       "      <td>12.019681</td>\n",
       "      <td>59.187234</td>\n",
       "      <td>5.008085</td>\n",
       "      <td>1922.382979</td>\n",
       "    </tr>\n",
       "    <tr>\n",
       "      <th>1</th>\n",
       "      <td>5.000000</td>\n",
       "      <td>58.738889</td>\n",
       "      <td>8.807778</td>\n",
       "      <td>51.491667</td>\n",
       "      <td>45672.222222</td>\n",
       "      <td>2.671250</td>\n",
       "      <td>80.127778</td>\n",
       "      <td>1.752778</td>\n",
       "      <td>42494.444444</td>\n",
       "    </tr>\n",
       "    <tr>\n",
       "      <th>2</th>\n",
       "      <td>21.927381</td>\n",
       "      <td>40.243917</td>\n",
       "      <td>6.200952</td>\n",
       "      <td>47.473404</td>\n",
       "      <td>12305.595238</td>\n",
       "      <td>7.600905</td>\n",
       "      <td>72.814286</td>\n",
       "      <td>2.307500</td>\n",
       "      <td>6486.452381</td>\n",
       "    </tr>\n",
       "    <tr>\n",
       "      <th rowspan=\"3\" valign=\"top\">Stds</th>\n",
       "      <th>0</th>\n",
       "      <td>33.375229</td>\n",
       "      <td>18.160597</td>\n",
       "      <td>2.662015</td>\n",
       "      <td>17.732741</td>\n",
       "      <td>5641.790360</td>\n",
       "      <td>15.509958</td>\n",
       "      <td>6.443521</td>\n",
       "      <td>1.041382</td>\n",
       "      <td>2956.103925</td>\n",
       "    </tr>\n",
       "    <tr>\n",
       "      <th>1</th>\n",
       "      <td>2.188933</td>\n",
       "      <td>41.930782</td>\n",
       "      <td>3.178015</td>\n",
       "      <td>36.843998</td>\n",
       "      <td>20852.017526</td>\n",
       "      <td>4.077719</td>\n",
       "      <td>1.815742</td>\n",
       "      <td>0.373054</td>\n",
       "      <td>18991.079777</td>\n",
       "    </tr>\n",
       "    <tr>\n",
       "      <th>2</th>\n",
       "      <td>13.757919</td>\n",
       "      <td>19.029182</td>\n",
       "      <td>2.167233</td>\n",
       "      <td>20.103873</td>\n",
       "      <td>8180.073696</td>\n",
       "      <td>7.849516</td>\n",
       "      <td>3.960745</td>\n",
       "      <td>0.696957</td>\n",
       "      <td>5021.434052</td>\n",
       "    </tr>\n",
       "  </tbody>\n",
       "</table>\n",
       "</div>"
      ],
      "text/plain": [
       "             child_mort    exports    health    imports        income  \\\n",
       "Centroids 0   92.961702  29.151277  6.388511  42.323404   3942.404255   \n",
       "          1    5.000000  58.738889  8.807778  51.491667  45672.222222   \n",
       "          2   21.927381  40.243917  6.200952  47.473404  12305.595238   \n",
       "Means     0   92.961702  29.151277  6.388511  42.323404   3942.404255   \n",
       "          1    5.000000  58.738889  8.807778  51.491667  45672.222222   \n",
       "          2   21.927381  40.243917  6.200952  47.473404  12305.595238   \n",
       "Stds      0   33.375229  18.160597  2.662015  17.732741   5641.790360   \n",
       "          1    2.188933  41.930782  3.178015  36.843998  20852.017526   \n",
       "          2   13.757919  19.029182  2.167233  20.103873   8180.073696   \n",
       "\n",
       "             inflation  life_expec  total_fer          gdpp  \n",
       "Centroids 0  12.019681   59.187234   5.008085   1922.382979  \n",
       "          1   2.671250   80.127778   1.752778  42494.444444  \n",
       "          2   7.600905   72.814286   2.307500   6486.452381  \n",
       "Means     0  12.019681   59.187234   5.008085   1922.382979  \n",
       "          1   2.671250   80.127778   1.752778  42494.444444  \n",
       "          2   7.600905   72.814286   2.307500   6486.452381  \n",
       "Stds      0  15.509958    6.443521   1.041382   2956.103925  \n",
       "          1   4.077719    1.815742   0.373054  18991.079777  \n",
       "          2   7.849516    3.960745   0.696957   5021.434052  "
      ]
     },
     "execution_count": 42,
     "metadata": {},
     "output_type": "execute_result"
    }
   ],
   "source": [
    "# Step 1: Get the centroids from the KMeans model (you've already fitted the kmeans model)\n",
    "centroids_scaled = kmeans.cluster_centers_\n",
    "\n",
    "# Step 2: Inverse transform the centroids to the original data space\n",
    "centroids = scaler.inverse_transform(centroids_scaled)\n",
    "\n",
    "# Step 3: Create a dataframe with these centroids\n",
    "centroids_df = pd.DataFrame(centroids, columns=X.columns)\n",
    "\n",
    "# Step 4: Compute the descriptive statistics for the nonscaled data\n",
    "cluster_descriptive_stats = df.drop('country', axis=1).groupby('cluster').describe()\n",
    "\n",
    "# To display the mean and std for each cluster alongside the centroids:\n",
    "# Compute mean and std for each cluster\n",
    "cluster_means = df.drop('country', axis=1).groupby('cluster').mean()\n",
    "cluster_stds = df.drop('country', axis=1).groupby('cluster').std()\n",
    "\n",
    "# Step 5: Concat the centroids dataframe with your descriptive statistics\n",
    "full_stats = pd.concat([centroids_df, cluster_means, cluster_stds], keys=['Centroids', 'Means', 'Stds'])\n",
    "\n",
    "full_stats"
   ]
  },
  {
   "cell_type": "markdown",
   "metadata": {
    "id": "x_rQZjMrUKY8"
   },
   "source": [
    "# 9.) Write an observation about the descriptive statistics."
   ]
  },
  {
   "cell_type": "markdown",
   "metadata": {
    "id": "7MOo8dEeTIOc"
   },
   "source": [
    "Cluster 0 appears to represent countries with high child mortality rates, low income, and low GDP per capita, which might suggest these are underdeveloped or developing countries with significant economic challenges.\n",
    "\n",
    "Cluster 1 shows very high income and GDP per capita, low child mortality, and high life expectancy. The numbers suggest these are developed countries with high economic standards and well-established healthcare systems.\n",
    "\n",
    "Cluster 2 seems to be an intermediate group with moderate values for the mentioned indicators. These could be countries that are in transition or developing with better economic conditions than cluster 0 but not as high as cluster 1."
   ]
  }
 ],
 "metadata": {
  "colab": {
   "provenance": []
  },
  "kernelspec": {
   "display_name": "Python 3 (ipykernel)",
   "language": "python",
   "name": "python3"
  },
  "language_info": {
   "codemirror_mode": {
    "name": "ipython",
    "version": 3
   },
   "file_extension": ".py",
   "mimetype": "text/x-python",
   "name": "python",
   "nbconvert_exporter": "python",
   "pygments_lexer": "ipython3",
   "version": "3.10.9"
  }
 },
 "nbformat": 4,
 "nbformat_minor": 1
}
